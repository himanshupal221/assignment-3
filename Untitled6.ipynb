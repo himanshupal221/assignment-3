{
 "cells": [
  {
   "cell_type": "markdown",
   "id": "2290072b-15b5-4720-ad08-d3b22b8f16e9",
   "metadata": {},
   "source": [
    "Q1. Explain with an example each when to use a for loop and a while loop.\n",
    "Ans. For loop = It is a counting loop which iterates/repeats a block of statements over a sequence \n",
    "     While loop = It is a conditional loop which is used to iterate/repeat a block of statements , repeatedly based on a condition\n",
    "     \n",
    "    "
   ]
  },
  {
   "cell_type": "code",
   "execution_count": 1,
   "id": "0351e8ac-76da-4100-8f10-da50d5d07827",
   "metadata": {},
   "outputs": [
    {
     "name": "stdout",
     "output_type": "stream",
     "text": [
      "10\n",
      "20\n",
      "30\n",
      "40\n",
      "50\n"
     ]
    }
   ],
   "source": [
    "# EXAMPLE  for loop\n",
    "l = [10,20,30,40,50,]\n",
    "for i in l:\n",
    "    print (i)"
   ]
  },
  {
   "cell_type": "code",
   "execution_count": 2,
   "id": "491fedb9-4557-4b2a-8c01-10288136db06",
   "metadata": {},
   "outputs": [
    {
     "name": "stdout",
     "output_type": "stream",
     "text": [
      "1\n",
      "2\n",
      "3\n",
      "4\n",
      "5\n",
      "6\n",
      "7\n",
      "8\n",
      "9\n",
      "10\n"
     ]
    }
   ],
   "source": [
    "# EXAMPLE  while loop\n",
    "i=1\n",
    "while i<=10:\n",
    "    print(i)\n",
    "    i=i+1"
   ]
  },
  {
   "cell_type": "markdown",
   "id": "2b673316-d030-4f7f-b2d0-ebf686b081b1",
   "metadata": {},
   "source": [
    "Q2. Write a python program to print the sum and product of the first 10 natural numbers using for\n",
    "and while loop."
   ]
  },
  {
   "cell_type": "code",
   "execution_count": 4,
   "id": "c7f6c594-3f3b-400a-a0a5-a2366859de14",
   "metadata": {},
   "outputs": [
    {
     "name": "stdout",
     "output_type": "stream",
     "text": [
      "sum : 55\n",
      "product : 3628800\n"
     ]
    }
   ],
   "source": [
    "# for loop\n",
    "sum = 0\n",
    "product = 1\n",
    "for i in range(1,11):\n",
    "    sum = sum +i\n",
    "    product = product*i\n",
    "print(\"sum :\",sum)\n",
    "print(\"product :\",product)"
   ]
  },
  {
   "cell_type": "markdown",
   "id": "3b382422-54e4-4176-ac67-d638db194009",
   "metadata": {},
   "source": [
    "\n",
    "\n",
    "Q3. Create a python program to compute the electricity bill for a household.\n",
    "\n",
    "The per-unit charges in rupees are as follows: For the first 100 units, the user will be charged Rs. 4.5 per\n",
    "unit, for the next 100 units, the user will be charged Rs. 6 per unit, and for the next 100 units, the user will\n",
    "be charged Rs. 10 per unit, After 300 units and above the user will be charged Rs. 20 per unit.\n",
    "You are required to take the units of electricity consumed in a month from the user as input.\n",
    "Your program must pass this test case: when the unit of electricity consumed by the user in a month is\n",
    "310, the total electricity bill should be 2250."
   ]
  },
  {
   "cell_type": "code",
   "execution_count": 12,
   "id": "21d2effc-506e-454d-b638-8d427157aa9d",
   "metadata": {},
   "outputs": [
    {
     "name": "stdin",
     "output_type": "stream",
     "text": [
      "enter the number of units : 310\n"
     ]
    },
    {
     "name": "stdout",
     "output_type": "stream",
     "text": [
      " the total electricity bill is: 2250.0\n"
     ]
    }
   ],
   "source": [
    "units = int(input(\"enter the number of units :\"))\n",
    "if units <=100:\n",
    "    bill = units*4.5\n",
    "elif units <=200:\n",
    "    bill = 100*4.5 + (units-100)*6\n",
    "elif units <=300:\n",
    "    bill = 100*4.5 + 100*6  + (units-200)*10\n",
    "else :\n",
    "    bill = 100*4.5  + 100*6 + 100*10 + (units-300)*20\n",
    "print(\" the total electricity bill is:\",bill)"
   ]
  },
  {
   "cell_type": "markdown",
   "id": "af44dc8d-8b3d-4f99-996e-0d7d56f423f9",
   "metadata": {},
   "source": [
    "\n",
    "\n",
    "\n",
    "\n",
    "\n",
    "Q4. Create a list of numbers from 1 to 100. Use for loop and while loop to calculate the cube of each\n",
    "number and if the cube of that number is divisible by 4 or 5 then append that number in a list and print\n",
    "that list."
   ]
  },
  {
   "cell_type": "code",
   "execution_count": 23,
   "id": "e340aeea-e11c-4455-aa94-3ce61d62e464",
   "metadata": {},
   "outputs": [
    {
     "name": "stdout",
     "output_type": "stream",
     "text": [
      " the list of cube that are divisible by 4 or 5 : [8, 64, 125, 216, 512, 1000, 1728, 2744, 3375, 4096, 5832, 8000, 10648, 13824, 15625, 17576, 21952, 27000, 32768, 39304, 42875, 46656, 54872, 64000, 74088, 85184, 91125, 97336, 110592, 125000, 140608, 157464, 166375, 175616, 195112, 216000, 238328, 262144, 274625, 287496, 314432, 343000, 373248, 405224, 421875, 438976, 474552, 512000, 551368, 592704, 614125, 636056, 681472, 729000, 778688, 830584, 857375, 884736, 941192, 1000000]\n"
     ]
    }
   ],
   "source": [
    "list=[]\n",
    "cube_divisible=[]\n",
    "for i in range(1,101):\n",
    "    list.append(i)\n",
    "    cube = i**3\n",
    "    if cube % 4==0 or cube%5==0:\n",
    "        cube_divisible.append(cube)\n",
    "print(\" the list of cube that are divisible by 4 or 5 :\",cube_divisible)\n",
    "\n",
    "        \n",
    "    "
   ]
  },
  {
   "cell_type": "code",
   "execution_count": 24,
   "id": "0d2bab84-85fc-4960-8fec-9db236384392",
   "metadata": {},
   "outputs": [
    {
     "name": "stdout",
     "output_type": "stream",
     "text": [
      " the list of cube that are divisible by 4 or 5 : [8, 64, 125, 216, 512, 1000, 1728, 2744, 3375, 4096, 5832, 8000, 10648, 13824, 15625, 17576, 21952, 27000, 32768, 39304, 42875, 46656, 54872, 64000, 74088, 85184, 91125, 97336, 110592, 125000, 140608, 157464, 166375, 175616, 195112, 216000, 238328, 262144, 274625, 287496, 314432, 343000, 373248, 405224, 421875, 438976, 474552, 512000, 551368, 592704, 614125, 636056, 681472, 729000, 778688, 830584, 857375, 884736, 941192, 1000000]\n"
     ]
    }
   ],
   "source": [
    "list=[]\n",
    "cube_divisible=[]\n",
    "i=1\n",
    "while i <=100:\n",
    "    list.append(i)\n",
    "    cube = i**3\n",
    "    if cube % 4==0 or cube%5==0:\n",
    "        cube_divisible.append(cube)\n",
    "    i=i+1\n",
    "print(\" the list of cube that are divisible by 4 or 5 :\",cube_divisible)"
   ]
  },
  {
   "cell_type": "markdown",
   "id": "e0f6ecef-88ef-443d-83cb-1a021977fb26",
   "metadata": {},
   "source": [
    "\n",
    "\n",
    "\n",
    "\n",
    "\n",
    "\n",
    "\n",
    "Q5. Write a program to filter count vowels in the below-given string.\n",
    "string = \"I want to become a data scientist\""
   ]
  },
  {
   "cell_type": "code",
   "execution_count": 25,
   "id": "1c7a4442-5d9c-4dc3-acbf-8af927a37e88",
   "metadata": {},
   "outputs": [
    {
     "name": "stdout",
     "output_type": "stream",
     "text": [
      "The number of vowels in the string is : 12\n"
     ]
    }
   ],
   "source": [
    "string = \"I want to become a data scientist\"\n",
    "vowels = \"aeiouAEIOU\"\n",
    "count = 0\n",
    "for char in string:\n",
    "    if char in vowels:\n",
    "        count=count+1\n",
    "print(\"The number of vowels in the string is :\",count)"
   ]
  },
  {
   "cell_type": "code",
   "execution_count": null,
   "id": "01576076-a3f5-4266-9a81-75a5d8293606",
   "metadata": {},
   "outputs": [],
   "source": []
  }
 ],
 "metadata": {
  "kernelspec": {
   "display_name": "Python 3 (ipykernel)",
   "language": "python",
   "name": "python3"
  },
  "language_info": {
   "codemirror_mode": {
    "name": "ipython",
    "version": 3
   },
   "file_extension": ".py",
   "mimetype": "text/x-python",
   "name": "python",
   "nbconvert_exporter": "python",
   "pygments_lexer": "ipython3",
   "version": "3.10.8"
  }
 },
 "nbformat": 4,
 "nbformat_minor": 5
}
